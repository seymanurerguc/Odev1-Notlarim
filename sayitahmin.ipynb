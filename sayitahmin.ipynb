{
  "cells": [
    {
      "cell_type": "markdown",
      "metadata": {
        "id": "view-in-github",
        "colab_type": "text"
      },
      "source": [
        "<a href=\"https://colab.research.google.com/github/seymanurerguc/Odev1-Notlarim/blob/main/sayitahmin.ipynb\" target=\"_parent\"><img src=\"https://colab.research.google.com/assets/colab-badge.svg\" alt=\"Open In Colab\"/></a>"
      ]
    },
    {
      "cell_type": "code",
      "execution_count": null,
      "metadata": {
        "colab": {
          "background_save": true
        },
        "id": "_BfgxQsXaAS2"
      },
      "outputs": [],
      "source": [
        "import random\n",
        "while True:\n",
        "  s=random.randint(1,100)\n",
        "  deneme=0\n",
        "  while True:\n",
        "    t=int(input(\"Tahmin:\"))\n",
        "    deneme +=1\n",
        "    if t<s:\n",
        "      print(\"Yukarı...\")\n",
        "    elif   t>s:\n",
        "        print(\"Aşağı...\")\n",
        "    elif t==s:\n",
        "          print(f\"Tebrikler {deneme}  denemede bildiniz\")\n",
        "          break\n",
        "          a=input(\"Devam mı? e/h:\")\n",
        "          if a in \"hH\":\n",
        "            break"
      ]
    }
  ],
  "metadata": {
    "colab": {
      "provenance": [],
      "include_colab_link": true
    },
    "kernelspec": {
      "display_name": "Python 3",
      "name": "python3"
    },
    "language_info": {
      "name": "python"
    }
  },
  "nbformat": 4,
  "nbformat_minor": 0
}